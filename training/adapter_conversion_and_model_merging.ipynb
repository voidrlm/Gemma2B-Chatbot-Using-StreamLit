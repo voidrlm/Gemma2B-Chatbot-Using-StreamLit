{
 "cells": [
  {
   "cell_type": "code",
   "execution_count": null,
   "id": "b1a8363f",
   "metadata": {},
   "outputs": [],
   "source": [
    "%pip install sentencepiece\n"
   ]
  },
  {
   "cell_type": "code",
   "execution_count": null,
   "id": "5c8f9622",
   "metadata": {},
   "outputs": [],
   "source": [
    "from transformers import AutoModelForCausalLM\n",
    "from peft import PeftModel\n",
    "\n",
    "# Load the base model\n",
    "base_model = AutoModelForCausalLM.from_pretrained(\"google/gemma-2b-it\")\n",
    "\n",
    "# Load your LoRA/PEFT adapter\n",
    "ft_model = PeftModel.from_pretrained(base_model, \"./content/gemma-2b-finetuned\")\n",
    "\n",
    "# Merge adapter weights into the base model and unload PEFT\n",
    "merged_model = ft_model.merge_and_unload()\n",
    "\n",
    "# Save the merged model (now in Hugging Face format, no LoRA/adapter required)\n",
    "merged_model.save_pretrained(\"./gemma-2b-merged\")\n"
   ]
  },
  {
   "cell_type": "code",
   "execution_count": null,
   "id": "2562c214",
   "metadata": {
    "vscode": {
     "languageId": "markdown"
    }
   },
   "outputs": [],
   "source": [
    "<!-- git clone https://github.com/ggerganov/llama.cpp.git -->\n",
    "\n",
    "Download the below and place it in the gemma-2b-merged folder\n",
    "<!-- https://huggingface.co/google/gemma-2b-it/resolve/main/tokenizer.model -->"
   ]
  },
  {
   "cell_type": "code",
   "execution_count": null,
   "id": "f79185f3",
   "metadata": {},
   "outputs": [],
   "source": [
    "# python llama.cpp/convert_hf_to_gguf.py ./training/gemma-2b-merged --outfile output.gguf"
   ]
  },
  {
   "cell_type": "code",
   "execution_count": null,
   "id": "6bd6fa1e",
   "metadata": {},
   "outputs": [],
   "source": []
  }
 ],
 "metadata": {
  "kernelspec": {
   "display_name": "Python 3",
   "language": "python",
   "name": "python3"
  },
  "language_info": {
   "codemirror_mode": {
    "name": "ipython",
    "version": 3
   },
   "file_extension": ".py",
   "mimetype": "text/x-python",
   "name": "python",
   "nbconvert_exporter": "python",
   "pygments_lexer": "ipython3",
   "version": "3.9.13"
  }
 },
 "nbformat": 4,
 "nbformat_minor": 5
}
